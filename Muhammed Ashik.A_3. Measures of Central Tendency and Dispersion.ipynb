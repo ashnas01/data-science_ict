{
 "cells": [
  {
   "cell_type": "code",
   "execution_count": 5,
   "id": "d8c109bb",
   "metadata": {},
   "outputs": [],
   "source": [
    "import pandas as pd\n",
    "import numpy as np"
   ]
  },
  {
   "cell_type": "code",
   "execution_count": 6,
   "id": "34ea8cd4",
   "metadata": {},
   "outputs": [],
   "source": [
    "df = pd.read_csv(r\"C:\\Users\\Muhammed Ashik.A\\Downloads\\StudentsPerformance.csv\")"
   ]
  },
  {
   "cell_type": "markdown",
   "id": "76a6cc31",
   "metadata": {},
   "source": [
    "# males and females participated in the test"
   ]
  },
  {
   "cell_type": "code",
   "execution_count": 7,
   "id": "4f735c2b",
   "metadata": {},
   "outputs": [
    {
     "name": "stdout",
     "output_type": "stream",
     "text": [
      "female    518\n",
      "male      482\n",
      "Name: gender, dtype: int64\n"
     ]
    }
   ],
   "source": [
    "gender_counts = df['gender'].value_counts()\n",
    "print(gender_counts)"
   ]
  },
  {
   "cell_type": "markdown",
   "id": "9f9de2e9",
   "metadata": {},
   "source": [
    "# Students' parental level of education"
   ]
  },
  {
   "cell_type": "code",
   "execution_count": 8,
   "id": "7b52fd3b",
   "metadata": {},
   "outputs": [
    {
     "name": "stdout",
     "output_type": "stream",
     "text": [
      "some college          226\n",
      "associate's degree    222\n",
      "high school           196\n",
      "some high school      179\n",
      "bachelor's degree     118\n",
      "master's degree        59\n",
      "Name: parental level of education, dtype: int64\n"
     ]
    }
   ],
   "source": [
    "parental_education_counts = df['parental level of education'].value_counts()\n",
    "print(parental_education_counts)"
   ]
  },
  {
   "cell_type": "markdown",
   "id": "4a8b05e0",
   "metadata": {},
   "source": [
    "# most on average for math, reading and writing based on gender and test preparation course"
   ]
  },
  {
   "cell_type": "code",
   "execution_count": 6,
   "id": "aebbd3be",
   "metadata": {},
   "outputs": [
    {
     "name": "stdout",
     "output_type": "stream",
     "text": [
      "                                math score  reading score  writing score\n",
      "gender test preparation course                                          \n",
      "female completed                 67.108696      77.375000      78.793478\n",
      "       none                      61.320359      69.955090      68.982036\n",
      "male   completed                 72.988506      70.793103      70.339080\n",
      "       none                      66.467532      62.581169      59.551948\n"
     ]
    }
   ],
   "source": [
    "average_scores = df.groupby(['gender', 'test preparation course']).mean()\n",
    "print(average_scores)"
   ]
  },
  {
   "cell_type": "markdown",
   "id": "f77b0383",
   "metadata": {},
   "source": [
    "# scoring variation for math, reading and writing based on gender and test preparation course"
   ]
  },
  {
   "cell_type": "code",
   "execution_count": 7,
   "id": "43223810",
   "metadata": {},
   "outputs": [
    {
     "name": "stdout",
     "output_type": "stream",
     "text": [
      "                                math score  reading score  writing score\n",
      "gender test preparation course                                          \n",
      "female completed                 14.428233      12.695493      12.240788\n",
      "       none                      16.510686      14.636981      15.016497\n",
      "male   completed                 14.039164      13.612420      12.887910\n",
      "       none                      14.335746      13.595718      13.468284\n"
     ]
    }
   ],
   "source": [
    "score_variations = df.groupby(['gender', 'test preparation course']).std()\n",
    "print(score_variations)"
   ]
  },
  {
   "cell_type": "markdown",
   "id": "87e4c688",
   "metadata": {},
   "source": [
    "# give bonus points to the top 25% of students based on their math score"
   ]
  },
  {
   "cell_type": "code",
   "execution_count": 9,
   "id": "44dd50fa",
   "metadata": {},
   "outputs": [],
   "source": [
    "math_score_cutoff = df['math score'].quantile(0.75)\n",
    "\n",
    "top_25_percent_students= df[df['math score'] >= math_score_cutoff]"
   ]
  },
  {
   "cell_type": "code",
   "execution_count": 10,
   "id": "7dcfdcd6",
   "metadata": {},
   "outputs": [
    {
     "name": "stdout",
     "output_type": "stream",
     "text": [
      "Top 25% of Students Based on Math Score (with Bonus Points):\n",
      "     gender race/ethnicity parental level of education         lunch  \\\n",
      "414  female        group A                 high school  free/reduced   \n",
      "415  female        group B             master's degree  free/reduced   \n",
      "416  female        group B           bachelor's degree  free/reduced   \n",
      "417  female        group B             master's degree      standard   \n",
      "418  female        group B                 high school      standard   \n",
      "..      ...            ...                         ...           ...   \n",
      "995    male        group E                some college      standard   \n",
      "996    male        group A                some college      standard   \n",
      "997    male        group D                some college      standard   \n",
      "998    male        group E          associate's degree  free/reduced   \n",
      "999    male        group E           bachelor's degree      standard   \n",
      "\n",
      "    test preparation course  math score  reading score  writing score  \\\n",
      "414               completed          77             88             85   \n",
      "415               completed          77             97             94   \n",
      "416                    none          77             85             87   \n",
      "417                    none          77             90             84   \n",
      "418               completed          77             82             89   \n",
      "..                      ...         ...            ...            ...   \n",
      "995               completed          99             87             81   \n",
      "996               completed         100             96             86   \n",
      "997               completed         100             97             99   \n",
      "998               completed         100            100             93   \n",
      "999               completed         100            100            100   \n",
      "\n",
      "     bonus points  \n",
      "414          3.85  \n",
      "415          3.85  \n",
      "416          3.85  \n",
      "417          3.85  \n",
      "418          3.85  \n",
      "..            ...  \n",
      "995          4.95  \n",
      "996          5.00  \n",
      "997          5.00  \n",
      "998          5.00  \n",
      "999          5.00  \n",
      "\n",
      "[255 rows x 9 columns]\n"
     ]
    },
    {
     "name": "stderr",
     "output_type": "stream",
     "text": [
      "C:\\Users\\Muhammed Ashik.A\\AppData\\Local\\Temp\\ipykernel_15560\\2577937722.py:3: SettingWithCopyWarning: \n",
      "A value is trying to be set on a copy of a slice from a DataFrame.\n",
      "Try using .loc[row_indexer,col_indexer] = value instead\n",
      "\n",
      "See the caveats in the documentation: https://pandas.pydata.org/pandas-docs/stable/user_guide/indexing.html#returning-a-view-versus-a-copy\n",
      "  top_25_percent_students['bonus points'] = bonus_points\n"
     ]
    }
   ],
   "source": [
    "bonus_points = top_25_percent_students['math score'] * 0.05\n",
    "\n",
    "top_25_percent_students['bonus points'] = bonus_points\n",
    "\n",
    "print(\"Top 25% of Students Based on Math Score (with Bonus Points):\")\n",
    "print(top_25_percent_students)"
   ]
  },
  {
   "cell_type": "code",
   "execution_count": null,
   "id": "5ab9d34c",
   "metadata": {},
   "outputs": [],
   "source": []
  }
 ],
 "metadata": {
  "kernelspec": {
   "display_name": "Python 3 (ipykernel)",
   "language": "python",
   "name": "python3"
  },
  "language_info": {
   "codemirror_mode": {
    "name": "ipython",
    "version": 3
   },
   "file_extension": ".py",
   "mimetype": "text/x-python",
   "name": "python",
   "nbconvert_exporter": "python",
   "pygments_lexer": "ipython3",
   "version": "3.9.13"
  }
 },
 "nbformat": 4,
 "nbformat_minor": 5
}
