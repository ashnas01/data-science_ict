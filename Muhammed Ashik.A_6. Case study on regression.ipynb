{
 "cells": [
  {
   "cell_type": "markdown",
   "id": "32164232",
   "metadata": {},
   "source": [
    "#  Import libraries"
   ]
  },
  {
   "cell_type": "code",
   "execution_count": 1,
   "id": "4e64e747",
   "metadata": {},
   "outputs": [],
   "source": [
    "import pandas as pd\n",
    "import numpy as np\n",
    "import matplotlib.pyplot as plt\n",
    "from sklearn.model_selection import train_test_split\n",
    "from sklearn.linear_model import LinearRegression, Lasso\n",
    "from sklearn.metrics import mean_squared_error, r2_score"
   ]
  },
  {
   "cell_type": "markdown",
   "id": "02a53bed",
   "metadata": {},
   "source": [
    "# Load and explore the dataset"
   ]
  },
  {
   "cell_type": "code",
   "execution_count": 3,
   "id": "cbdd2fd5",
   "metadata": {},
   "outputs": [],
   "source": [
    "path_to_dataset = r\"C:\\Users\\Muhammed Ashik.A\\Downloads\\car_age_price.csv\"\n",
    "df = pd.read_csv(path_to_dataset)"
   ]
  },
  {
   "cell_type": "code",
   "execution_count": 4,
   "id": "c7b308da",
   "metadata": {},
   "outputs": [
    {
     "name": "stdout",
     "output_type": "stream",
     "text": [
      "   Year   Price\n",
      "0  2018  465000\n",
      "1  2019  755000\n",
      "2  2019  700000\n",
      "3  2018  465000\n",
      "4  2018  465000\n"
     ]
    }
   ],
   "source": [
    "print(df.head())"
   ]
  },
  {
   "cell_type": "code",
   "execution_count": 5,
   "id": "276cd6ce",
   "metadata": {},
   "outputs": [
    {
     "name": "stdout",
     "output_type": "stream",
     "text": [
      "              Year          Price\n",
      "count   112.000000     112.000000\n",
      "mean   2016.669643  483866.044643\n",
      "std       1.629616   91217.450533\n",
      "min    2013.000000  300000.000000\n",
      "25%    2015.000000  423750.000000\n",
      "50%    2017.000000  500000.000000\n",
      "75%    2017.000000  550000.000000\n",
      "max    2020.000000  755000.000000\n"
     ]
    }
   ],
   "source": [
    "print(df.describe())"
   ]
  },
  {
   "cell_type": "code",
   "execution_count": 6,
   "id": "87770c9d",
   "metadata": {},
   "outputs": [
    {
     "name": "stdout",
     "output_type": "stream",
     "text": [
      "Year     0\n",
      "Price    0\n",
      "dtype: int64\n"
     ]
    }
   ],
   "source": [
    "print(df.isnull().sum())"
   ]
  },
  {
   "cell_type": "markdown",
   "id": "f945cb31",
   "metadata": {},
   "source": [
    "# Visualize the relationship between year and price"
   ]
  },
  {
   "cell_type": "code",
   "execution_count": 7,
   "id": "2fbf73f3",
   "metadata": {},
   "outputs": [
    {
     "data": {
      "image/png": "[encoded data removed]",
      "text/plain": [
       "<Figure size 640x480 with 1 Axes>"
      ]
     },
     "metadata": {},
     "output_type": "display_data"
    }
   ],
   "source": [
    "plt.scatter(df['Year'], df['Price'])\n",
    "plt.xlabel('Year')\n",
    "plt.ylabel('Price')\n",
    "plt.title('Year vs Price')\n",
    "plt.show()"
   ]
  },
  {
   "cell_type": "markdown",
   "id": "82d6fe2a",
   "metadata": {},
   "source": [
    "# Data processing"
   ]
  },
  {
   "cell_type": "code",
   "execution_count": 13,
   "id": "e46664ca",
   "metadata": {},
   "outputs": [],
   "source": [
    "X = df[['Year']]\n",
    "y = df['Price']\n",
    "\n",
    "X_train, X_test, y_train, y_test = train_test_split(X, y, test_size=0.2, random_state=42)\n",
    "\n",
    "X_train = pd.DataFrame(X_train, columns=['Year'])\n",
    "X_test = pd.DataFrame(X_test, columns=['Year'])"
   ]
  },
  {
   "cell_type": "markdown",
   "id": "52b6c7df",
   "metadata": {},
   "source": [
    "# Linear Regression Model"
   ]
  },
  {
   "cell_type": "code",
   "execution_count": 14,
   "id": "0bf3d2ff",
   "metadata": {},
   "outputs": [
    {
     "name": "stdout",
     "output_type": "stream",
     "text": [
      "Linear Regression Model:\n",
      "Mean Squared Error (MSE): 4326906256.829671\n",
      "R-squared (R2): 0.36759313425902185\n"
     ]
    }
   ],
   "source": [
    "linear_reg_model = LinearRegression()\n",
    "linear_reg_model.fit(X_train, y_train)\n",
    "\n",
    "y_pred_linear = linear_reg_model.predict(X_test)\n",
    "\n",
    "mse_linear = mean_squared_error(y_test, y_pred_linear)\n",
    "r2_linear = r2_score(y_test, y_pred_linear)\n",
    "\n",
    "print(\"Linear Regression Model:\")\n",
    "print(\"Mean Squared Error (MSE):\", mse_linear)\n",
    "print(\"R-squared (R2):\", r2_linear)"
   ]
  },
  {
   "cell_type": "markdown",
   "id": "8da1d537",
   "metadata": {},
   "source": [
    "# Lasso Regression Model"
   ]
  },
  {
   "cell_type": "code",
   "execution_count": 15,
   "id": "0d19a68a",
   "metadata": {},
   "outputs": [
    {
     "name": "stdout",
     "output_type": "stream",
     "text": [
      "Lasso Regression Model:\n",
      "Mean Squared Error (MSE): 4326901608.19506\n",
      "R-squared (R2): 0.36759381368868127\n"
     ]
    }
   ],
   "source": [
    "lasso_reg_model = Lasso(alpha=0.1)  \n",
    "lasso_reg_model.fit(X_train, y_train)\n",
    "\n",
    "y_pred_lasso = lasso_reg_model.predict(X_test)\n",
    "\n",
    "mse_lasso = mean_squared_error(y_test, y_pred_lasso)\n",
    "r2_lasso = r2_score(y_test, y_pred_lasso)\n",
    "\n",
    "print(\"Lasso Regression Model:\")\n",
    "print(\"Mean Squared Error (MSE):\", mse_lasso)\n",
    "print(\"R-squared (R2):\", r2_lasso)"
   ]
  },
  {
   "cell_type": "markdown",
   "id": "5db8afcd",
   "metadata": {},
   "source": [
    "# Model Comparison"
   ]
  },
  {
   "cell_type": "code",
   "execution_count": 16,
   "id": "15633790",
   "metadata": {},
   "outputs": [
    {
     "name": "stdout",
     "output_type": "stream",
     "text": [
      "Model Comparison:\n",
      "Linear Regression Model - Mean Squared Error (MSE): 4326906256.829671\n",
      "Lasso Regression Model - Mean Squared Error (MSE): 4326901608.19506\n",
      "Linear Regression Model - R-squared (R2): 0.36759313425902185\n",
      "Lasso Regression Model - R-squared (R2): 0.36759381368868127\n"
     ]
    }
   ],
   "source": [
    "print(\"Model Comparison:\")\n",
    "print(\"Linear Regression Model - Mean Squared Error (MSE):\", mse_linear)\n",
    "print(\"Lasso Regression Model - Mean Squared Error (MSE):\", mse_lasso)\n",
    "print(\"Linear Regression Model - R-squared (R2):\", r2_linear)\n",
    "print(\"Lasso Regression Model - R-squared (R2):\", r2_lasso)"
   ]
  },
  {
   "cell_type": "markdown",
   "id": "6c2cc673",
   "metadata": {},
   "source": [
    "# Prediction for 2022 Model"
   ]
  },
  {
   "cell_type": "code",
   "execution_count": 17,
   "id": "6b649576",
   "metadata": {},
   "outputs": [
    {
     "name": "stdout",
     "output_type": "stream",
     "text": [
      "Predicted price for a 2022 model: 743601.3917776793\n"
     ]
    },
    {
     "name": "stderr",
     "output_type": "stream",
     "text": [
      "C:\\Users\\Muhammed Ashik.A\\anaconda3\\lib\\site-packages\\sklearn\\base.py:450: UserWarning: X does not have valid feature names, but LinearRegression was fitted with feature names\n",
      "  warnings.warn(\n",
      "C:\\Users\\Muhammed Ashik.A\\anaconda3\\lib\\site-packages\\sklearn\\base.py:450: UserWarning: X does not have valid feature names, but Lasso was fitted with feature names\n",
      "  warnings.warn(\n"
     ]
    }
   ],
   "source": [
    "year_2022 = 2022\n",
    "predicted_price_2022 = linear_reg_model.predict([[year_2022]])  \n",
    "predicted_price_2022 = lasso_reg_model.predict([[year_2022]])  \n",
    "\n",
    "print(\"Predicted price for a 2022 model:\", predicted_price_2022[0])"
   ]
  },
  {
   "cell_type": "code",
   "execution_count": null,
   "id": "dc6f62a1",
   "metadata": {},
   "outputs": [],
   "source": []
  }
 ],
 "metadata": {
  "kernelspec": {
   "display_name": "Python 3 (ipykernel)",
   "language": "python",
   "name": "python3"
  },
  "language_info": {
   "codemirror_mode": {
    "name": "ipython",
    "version": 3
   },
   "file_extension": ".py",
   "mimetype": "text/x-python",
   "name": "python",
   "nbconvert_exporter": "python",
   "pygments_lexer": "ipython3",
   "version": "3.9.13"
  }
 },
 "nbformat": 4,
 "nbformat_minor": 5
}
