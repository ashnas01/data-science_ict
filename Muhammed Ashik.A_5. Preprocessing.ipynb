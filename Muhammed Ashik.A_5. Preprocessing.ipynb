{
 "cells": [
  {
   "cell_type": "code",
   "execution_count": 1,
   "id": "acc3f19d",
   "metadata": {},
   "outputs": [],
   "source": [
    "import pandas as pd\n",
    "import numpy as np\n",
    "from sklearn.preprocessing import MinMaxScaler"
   ]
  },
  {
   "cell_type": "markdown",
   "id": "dadfc71f",
   "metadata": {},
   "source": [
    "# Load the dataset into python environment"
   ]
  },
  {
   "cell_type": "code",
   "execution_count": 4,
   "id": "5fcd83cc",
   "metadata": {},
   "outputs": [],
   "source": [
    "path_to_dataset = r\"C:\\Users\\Muhammed Ashik.A\\Downloads\\titanic_dataset.csv\"\n",
    "df = pd.read_csv(path_to_dataset)"
   ]
  },
  {
   "cell_type": "markdown",
   "id": "838e96c5",
   "metadata": {},
   "source": [
    "# Make ‘PassengerId’ as the index column\n"
   ]
  },
  {
   "cell_type": "code",
   "execution_count": 5,
   "id": "d6ea1860",
   "metadata": {},
   "outputs": [],
   "source": [
    "df.set_index('PassengerId', inplace=True)"
   ]
  },
  {
   "cell_type": "markdown",
   "id": "933f5f98",
   "metadata": {},
   "source": [
    "# Check the basic details of the dataset"
   ]
  },
  {
   "cell_type": "code",
   "execution_count": 7,
   "id": "2eb082e6",
   "metadata": {},
   "outputs": [
    {
     "name": "stdout",
     "output_type": "stream",
     "text": [
      "Basic details of the dataset:\n",
      "<class 'pandas.core.frame.DataFrame'>\n",
      "Int64Index: 891 entries, 1 to 891\n",
      "Data columns (total 11 columns):\n",
      " #   Column    Non-Null Count  Dtype  \n",
      "---  ------    --------------  -----  \n",
      " 0   Survived  891 non-null    int64  \n",
      " 1   Pclass    891 non-null    int64  \n",
      " 2   Name      891 non-null    object \n",
      " 3   Sex       891 non-null    object \n",
      " 4   Age       714 non-null    float64\n",
      " 5   SibSp     891 non-null    int64  \n",
      " 6   Parch     891 non-null    int64  \n",
      " 7   Ticket    891 non-null    object \n",
      " 8   Fare      891 non-null    float64\n",
      " 9   Cabin     204 non-null    object \n",
      " 10  Embarked  889 non-null    object \n",
      "dtypes: float64(2), int64(4), object(5)\n",
      "memory usage: 83.5+ KB\n",
      "None\n"
     ]
    }
   ],
   "source": [
    "print(\"Basic details of the dataset:\")\n",
    "print(df.info())"
   ]
  },
  {
   "cell_type": "code",
   "execution_count": 8,
   "id": "145c1956",
   "metadata": {},
   "outputs": [
    {
     "name": "stdout",
     "output_type": "stream",
     "text": [
      "\n",
      "Summary statistics of the dataset:\n",
      "         Survived      Pclass         Age       SibSp       Parch        Fare\n",
      "count  891.000000  891.000000  714.000000  891.000000  891.000000  891.000000\n",
      "mean     0.383838    2.308642   29.699118    0.523008    0.381594   32.204208\n",
      "std      0.486592    0.836071   14.526497    1.102743    0.806057   49.693429\n",
      "min      0.000000    1.000000    0.420000    0.000000    0.000000    0.000000\n",
      "25%      0.000000    2.000000   20.125000    0.000000    0.000000    7.910400\n",
      "50%      0.000000    3.000000   28.000000    0.000000    0.000000   14.454200\n",
      "75%      1.000000    3.000000   38.000000    1.000000    0.000000   31.000000\n",
      "max      1.000000    3.000000   80.000000    8.000000    6.000000  512.329200\n"
     ]
    }
   ],
   "source": [
    "print(\"\\nSummary statistics of the dataset:\")\n",
    "print(df.describe())"
   ]
  },
  {
   "cell_type": "markdown",
   "id": "0c8a57d9",
   "metadata": {},
   "source": [
    "# Fill in all the missing values present in all the columns in the dataset"
   ]
  },
  {
   "cell_type": "code",
   "execution_count": 9,
   "id": "359c537d",
   "metadata": {},
   "outputs": [
    {
     "name": "stdout",
     "output_type": "stream",
     "text": [
      "\n",
      "Handling missing values:\n",
      "Number of missing values in each column:\n",
      "Survived      0\n",
      "Pclass        0\n",
      "Name          0\n",
      "Sex           0\n",
      "Age         177\n",
      "SibSp         0\n",
      "Parch         0\n",
      "Ticket        0\n",
      "Fare          0\n",
      "Cabin       687\n",
      "Embarked      2\n",
      "dtype: int64\n"
     ]
    }
   ],
   "source": [
    "print(\"\\nHandling missing values:\")\n",
    "print(\"Number of missing values in each column:\")\n",
    "print(df.isnull().sum())"
   ]
  },
  {
   "cell_type": "code",
   "execution_count": 10,
   "id": "aa7d7f64",
   "metadata": {},
   "outputs": [],
   "source": [
    "df['Age'].fillna(df['Age'].median(), inplace=True)"
   ]
  },
  {
   "cell_type": "code",
   "execution_count": 11,
   "id": "7237df18",
   "metadata": {},
   "outputs": [],
   "source": [
    "df['Cabin'].fillna('Unknown', inplace=True)"
   ]
  },
  {
   "cell_type": "code",
   "execution_count": 12,
   "id": "eb2f5206",
   "metadata": {},
   "outputs": [],
   "source": [
    "df['Embarked'].fillna(df['Embarked'].mode()[0], inplace=True)"
   ]
  },
  {
   "cell_type": "code",
   "execution_count": 13,
   "id": "1c15eb83",
   "metadata": {},
   "outputs": [
    {
     "name": "stdout",
     "output_type": "stream",
     "text": [
      "Number of missing values in each column:\n",
      "Survived    0\n",
      "Pclass      0\n",
      "Name        0\n",
      "Sex         0\n",
      "Age         0\n",
      "SibSp       0\n",
      "Parch       0\n",
      "Ticket      0\n",
      "Fare        0\n",
      "Cabin       0\n",
      "Embarked    0\n",
      "dtype: int64\n"
     ]
    }
   ],
   "source": [
    "print(\"Number of missing values in each column:\")\n",
    "print(df.isnull().sum())"
   ]
  },
  {
   "cell_type": "code",
   "execution_count": 20,
   "id": "4e958424",
   "metadata": {},
   "outputs": [
    {
     "name": "stdout",
     "output_type": "stream",
     "text": [
      "             Survived  Pclass  \\\n",
      "PassengerId                     \n",
      "1                   0     1.0   \n",
      "2                   1     0.0   \n",
      "3                   1     1.0   \n",
      "4                   1     0.0   \n",
      "5                   0     1.0   \n",
      "...               ...     ...   \n",
      "887                 0     0.5   \n",
      "888                 1     0.0   \n",
      "889                 0     1.0   \n",
      "890                 1     0.0   \n",
      "891                 0     1.0   \n",
      "\n",
      "                                                          Name     Sex  \\\n",
      "PassengerId                                                              \n",
      "1                                      Braund, Mr. Owen Harris    male   \n",
      "2            Cumings, Mrs. John Bradley (Florence Briggs Th...  female   \n",
      "3                                       Heikkinen, Miss. Laina  female   \n",
      "4                 Futrelle, Mrs. Jacques Heath (Lily May Peel)  female   \n",
      "5                                     Allen, Mr. William Henry    male   \n",
      "...                                                        ...     ...   \n",
      "887                                      Montvila, Rev. Juozas    male   \n",
      "888                               Graham, Miss. Margaret Edith  female   \n",
      "889                   Johnston, Miss. Catherine Helen \"Carrie\"  female   \n",
      "890                                      Behr, Mr. Karl Howell    male   \n",
      "891                                        Dooley, Mr. Patrick    male   \n",
      "\n",
      "                  Age  SibSp     Parch            Ticket      Fare    Cabin  \\\n",
      "PassengerId                                                                   \n",
      "1            0.375000    0.4  0.000000         A/5 21171  0.110460  Unknown   \n",
      "2            0.682692    0.4  0.000000          PC 17599  1.000000      C85   \n",
      "3            0.451923    0.0  0.000000  STON/O2. 3101282  0.120745  Unknown   \n",
      "4            0.625000    0.4  0.000000            113803  0.809027     C123   \n",
      "5            0.625000    0.0  0.000000            373450  0.122649  Unknown   \n",
      "...               ...    ...       ...               ...       ...      ...   \n",
      "887          0.471154    0.0  0.000000            211536  0.198067  Unknown   \n",
      "888          0.317308    0.0  0.000000            112053  0.457077      B42   \n",
      "889          0.490385    0.4  0.333333        W./C. 6607  0.357282  Unknown   \n",
      "890          0.451923    0.0  0.000000            111369  0.457077     C148   \n",
      "891          0.567308    0.0  0.000000            370376  0.118078  Unknown   \n",
      "\n",
      "            Embarked  \n",
      "PassengerId           \n",
      "1                  S  \n",
      "2                  C  \n",
      "3                  S  \n",
      "4                  S  \n",
      "5                  S  \n",
      "...              ...  \n",
      "887                S  \n",
      "888                S  \n",
      "889                S  \n",
      "890                C  \n",
      "891                Q  \n",
      "\n",
      "[891 rows x 11 columns]\n"
     ]
    }
   ],
   "source": [
    "print(df)"
   ]
  },
  {
   "cell_type": "markdown",
   "id": "a8d28891",
   "metadata": {},
   "source": [
    "# Check and handle outliers in at least 3 columns in the dataset"
   ]
  },
  {
   "cell_type": "code",
   "execution_count": 14,
   "id": "6dfb81cd",
   "metadata": {},
   "outputs": [
    {
     "name": "stdout",
     "output_type": "stream",
     "text": [
      "\n",
      "Handling outliers:\n"
     ]
    }
   ],
   "source": [
    "print(\"\\nHandling outliers:\")"
   ]
  },
  {
   "cell_type": "code",
   "execution_count": 21,
   "id": "7c2efdaf",
   "metadata": {},
   "outputs": [
    {
     "data": {
      "image/png": "[encoded data removed]",
      "text/plain": [
       "<Figure size 640x480 with 1 Axes>"
      ]
     },
     "metadata": {},
     "output_type": "display_data"
    },
    {
     "data": {
      "image/png": "[encoded data removed]",
      "text/plain": [
       "<Figure size 640x480 with 1 Axes>"
      ]
     },
     "metadata": {},
     "output_type": "display_data"
    },
    {
     "data": {
      "image/png": "[encoded data removed]",
      "text/plain": [
       "<Figure size 640x480 with 1 Axes>"
      ]
     },
     "metadata": {},
     "output_type": "display_data"
    }
   ],
   "source": [
    "import matplotlib.pyplot as plt\n",
    "\n",
    "plt.boxplot(df['Age'].dropna())\n",
    "plt.title('Age')\n",
    "plt.show()\n",
    "\n",
    "\n",
    "plt.boxplot(df['Fare'].dropna())\n",
    "plt.title('Fare')\n",
    "plt.show()\n",
    "\n",
    "\n",
    "plt.boxplot(df['SibSp'])\n",
    "plt.title('SibSp')\n",
    "plt.show()"
   ]
  },
  {
   "cell_type": "markdown",
   "id": "c2b0d321",
   "metadata": {},
   "source": [
    "# min max scaling on the feature set"
   ]
  },
  {
   "cell_type": "code",
   "execution_count": 18,
   "id": "7755edb4",
   "metadata": {},
   "outputs": [],
   "source": [
    "scaler = MinMaxScaler()\n",
    "df[['Pclass', 'Age', 'SibSp', 'Parch', 'Fare']] = scaler.fit_transform(df[['Pclass', 'Age', 'SibSp', 'Parch', 'Fare']])"
   ]
  },
  {
   "cell_type": "code",
   "execution_count": 24,
   "id": "fa697e05",
   "metadata": {},
   "outputs": [
    {
     "name": "stdout",
     "output_type": "stream",
     "text": [
      "Updated DataFrame:\n",
      "             Survived  Pclass  \\\n",
      "PassengerId                     \n",
      "1                   0     1.0   \n",
      "2                   1     0.0   \n",
      "3                   1     1.0   \n",
      "4                   1     0.0   \n",
      "5                   0     1.0   \n",
      "\n",
      "                                                          Name     Sex  \\\n",
      "PassengerId                                                              \n",
      "1                                      Braund, Mr. Owen Harris    male   \n",
      "2            Cumings, Mrs. John Bradley (Florence Briggs Th...  female   \n",
      "3                                       Heikkinen, Miss. Laina  female   \n",
      "4                 Futrelle, Mrs. Jacques Heath (Lily May Peel)  female   \n",
      "5                                     Allen, Mr. William Henry    male   \n",
      "\n",
      "                  Age  SibSp  Parch            Ticket      Fare    Cabin  \\\n",
      "PassengerId                                                                \n",
      "1            0.375000    0.4    0.0         A/5 21171  0.110460  Unknown   \n",
      "2            0.682692    0.4    0.0          PC 17599  1.000000      C85   \n",
      "3            0.451923    0.0    0.0  STON/O2. 3101282  0.120745  Unknown   \n",
      "4            0.625000    0.4    0.0            113803  0.809027     C123   \n",
      "5            0.625000    0.0    0.0            373450  0.122649  Unknown   \n",
      "\n",
      "            Embarked  \n",
      "PassengerId           \n",
      "1                  S  \n",
      "2                  C  \n",
      "3                  S  \n",
      "4                  S  \n",
      "5                  S  \n",
      "Scaled feature set:\n",
      "             Pclass       Age  SibSp     Parch      Fare\n",
      "PassengerId                                             \n",
      "1               1.0  0.375000    0.4  0.000000  0.110460\n",
      "2               0.0  0.682692    0.4  0.000000  1.000000\n",
      "3               1.0  0.451923    0.0  0.000000  0.120745\n",
      "4               0.0  0.625000    0.4  0.000000  0.809027\n",
      "5               1.0  0.625000    0.0  0.000000  0.122649\n",
      "...             ...       ...    ...       ...       ...\n",
      "887             0.5  0.471154    0.0  0.000000  0.198067\n",
      "888             0.0  0.317308    0.0  0.000000  0.457077\n",
      "889             1.0  0.490385    0.4  0.333333  0.357282\n",
      "890             0.0  0.451923    0.0  0.000000  0.457077\n",
      "891             1.0  0.567308    0.0  0.000000  0.118078\n",
      "\n",
      "[891 rows x 5 columns]\n"
     ]
    }
   ],
   "source": [
    "print(\"Updated DataFrame:\")\n",
    "print(df.head())\n",
    "\n",
    "\n",
    "print(\"Scaled feature set:\")\n",
    "print(df[['Pclass', 'Age', 'SibSp', 'Parch', 'Fare']])"
   ]
  },
  {
   "cell_type": "code",
   "execution_count": null,
   "id": "043cfd77",
   "metadata": {},
   "outputs": [],
   "source": []
  }
 ],
 "metadata": {
  "kernelspec": {
   "display_name": "Python 3 (ipykernel)",
   "language": "python",
   "name": "python3"
  },
  "language_info": {
   "codemirror_mode": {
    "name": "ipython",
    "version": 3
   },
   "file_extension": ".py",
   "mimetype": "text/x-python",
   "name": "python",
   "nbconvert_exporter": "python",
   "pygments_lexer": "ipython3",
   "version": "3.9.13"
  }
 },
 "nbformat": 4,
 "nbformat_minor": 5
}
