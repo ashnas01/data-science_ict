{
 "cells": [
  {
   "cell_type": "code",
   "execution_count": 1,
   "id": "7511a870",
   "metadata": {},
   "outputs": [],
   "source": [
    "import numpy as np\n",
    "import pandas as pd\n",
    "import matplotlib.pyplot as plt\n",
    "from sklearn.preprocessing import StandardScaler\n",
    "from sklearn.cluster import KMeans, AgglomerativeClustering, DBSCAN\n",
    "from sklearn.metrics import silhouette_score, homogeneity_completeness_v_measure"
   ]
  },
  {
   "cell_type": "markdown",
   "id": "edc51af0",
   "metadata": {},
   "source": [
    "# Data Preparation and Exploration"
   ]
  },
  {
   "cell_type": "code",
   "execution_count": 78,
   "id": "d51cbaf0",
   "metadata": {},
   "outputs": [],
   "source": [
    "df = pd.DataFrame({\n",
    "    'Alcohol': [14.23, 13.20, 13.16, 14.37, 13.24],\n",
    "    'Malic_Acid': [1.71, 1.78, 2.36, 1.95, 2.59],\n",
    "    'Ash': [2.43, 2.14, 2.67, 2.50, 2.87],\n",
    "    'Ash_Alcanity': [15.6, 11.2, 18.6, 16.8, 21.0],\n",
    "    'Magnesium': [127, 100, 101, 113, 118],\n",
    "    'Total_Phenols': [2.80, 2.65, 2.80, 3.85, 2.80],\n",
    "    'Flavanoids': [3.06, 2.76, 3.24, 3.49, 2.69],\n",
    "    'Nonflavanoid_Phenols': [0.28, 0.26, 0.30, 0.24, 0.39],\n",
    "    'Proanthocyanins': [2.29, 1.28, 2.81, 2.18, 1.82],\n",
    "    'Color_Intensity': [5.64, 4.38, 5.68, 7.80, 4.32],\n",
    "    'Hue': [1.04, 1.05, 1.03, 0.86, 1.04],\n",
    "    'OD280': [3.92, 3.40, 3.17, 3.45, 2.93],\n",
    "    'Proline': [1065, 1050, 1185, 1480, 735]\n",
    "})"
   ]
  },
  {
   "cell_type": "code",
   "execution_count": 56,
   "id": "d9f899a9",
   "metadata": {},
   "outputs": [],
   "source": [
    "assert len(df) == len(target), \"Number of samples in the dataset and target do not match.\""
   ]
  },
  {
   "cell_type": "code",
   "execution_count": 57,
   "id": "26148f66",
   "metadata": {
    "scrolled": true
   },
   "outputs": [
    {
     "name": "stdout",
     "output_type": "stream",
     "text": [
      "Index(['Alcohol', 'Malic_Acid', 'Ash', 'Ash_Alcanity', 'Magnesium',\n",
      "       'Total_Phenols', 'Flavanoids', 'Nonflavanoid_Phenols',\n",
      "       'Proanthocyanins', 'Color_Intensity', 'Hue', 'OD280', 'Proline'],\n",
      "      dtype='object')\n"
     ]
    }
   ],
   "source": [
    "print(df.columns)"
   ]
  },
  {
   "cell_type": "code",
   "execution_count": 77,
   "id": "aad165e8",
   "metadata": {},
   "outputs": [
    {
     "name": "stdout",
     "output_type": "stream",
     "text": [
      "   Alcohol  Malic_Acid   Ash  Ash_Alcanity  Magnesium  Total_Phenols  \\\n",
      "0    14.23        1.71  2.43          15.6        127           2.80   \n",
      "1    13.20        1.78  2.14          11.2        100           2.65   \n",
      "2    13.16        2.36  2.67          18.6        101           2.80   \n",
      "3    14.37        1.95  2.50          16.8        113           3.85   \n",
      "4    13.24        2.59  2.87          21.0        118           2.80   \n",
      "\n",
      "   Flavanoids  Nonflavanoid_Phenols  Proanthocyanins  Color_Intensity   Hue  \\\n",
      "0        3.06                  0.28             2.29             5.64  1.04   \n",
      "1        2.76                  0.26             1.28             4.38  1.05   \n",
      "2        3.24                  0.30             2.81             5.68  1.03   \n",
      "3        3.49                  0.24             2.18             7.80  0.86   \n",
      "4        2.69                  0.39             1.82             4.32  1.04   \n",
      "\n",
      "   OD280  Proline  \n",
      "0   3.92     1065  \n",
      "1   3.40     1050  \n",
      "2   3.17     1185  \n",
      "3   3.45     1480  \n",
      "4   2.93      735  \n"
     ]
    }
   ],
   "source": [
    "print(df.head())"
   ]
  },
  {
   "cell_type": "code",
   "execution_count": 58,
   "id": "e38df367",
   "metadata": {},
   "outputs": [
    {
     "name": "stdout",
     "output_type": "stream",
     "text": [
      "Alcohol                 0\n",
      "Malic_Acid              0\n",
      "Ash                     0\n",
      "Ash_Alcanity            0\n",
      "Magnesium               0\n",
      "Total_Phenols           0\n",
      "Flavanoids              0\n",
      "Nonflavanoid_Phenols    0\n",
      "Proanthocyanins         0\n",
      "Color_Intensity         0\n",
      "Hue                     0\n",
      "OD280                   0\n",
      "Proline                 0\n",
      "dtype: int64\n"
     ]
    }
   ],
   "source": [
    "print(df.isnull().sum())"
   ]
  },
  {
   "cell_type": "code",
   "execution_count": 59,
   "id": "49616fc8",
   "metadata": {},
   "outputs": [
    {
     "name": "stdout",
     "output_type": "stream",
     "text": [
      "Shape of the dataset: (178, 13)\n"
     ]
    }
   ],
   "source": [
    "print(\"Shape of the dataset:\", df.shape)"
   ]
  },
  {
   "cell_type": "code",
   "execution_count": 60,
   "id": "ba804869",
   "metadata": {},
   "outputs": [
    {
     "name": "stdout",
     "output_type": "stream",
     "text": [
      "Number of unique true labels in target: 121\n"
     ]
    }
   ],
   "source": [
    "print(\"Number of unique true labels in target:\", len(set(target)))"
   ]
  },
  {
   "cell_type": "code",
   "execution_count": 61,
   "id": "1d50334e",
   "metadata": {},
   "outputs": [
    {
     "name": "stdout",
     "output_type": "stream",
     "text": [
      "Number of samples in the dataset and target match.\n"
     ]
    }
   ],
   "source": [
    "if len(df) == len(target):\n",
    "    print(\"Number of samples in the dataset and target match.\")\n",
    "else:\n",
    "    print(\"Number of samples in the dataset and target do not match.\")"
   ]
  },
  {
   "cell_type": "code",
   "execution_count": 100,
   "id": "eeb35339",
   "metadata": {},
   "outputs": [],
   "source": [
    "scaler = StandardScaler()\n",
    "data_std = scaler.fit_transform(data)"
   ]
  },
  {
   "cell_type": "markdown",
   "id": "e49a21d6",
   "metadata": {},
   "source": [
    "# K-Means Clustering"
   ]
  },
  {
   "cell_type": "code",
   "execution_count": 80,
   "id": "e04d4892",
   "metadata": {},
   "outputs": [],
   "source": [
    "def kmeans_clustering(data, n_clusters):\n",
    "    kmeans = KMeans(n_clusters=3, random_state=42)\n",
    "    labels = kmeans.fit_predict(data)\n",
    "    return kmeans, labels"
   ]
  },
  {
   "cell_type": "code",
   "execution_count": 81,
   "id": "4fabe2ed",
   "metadata": {},
   "outputs": [
    {
     "name": "stderr",
     "output_type": "stream",
     "text": [
      "C:\\Users\\Muhammed Ashik.A\\anaconda3\\lib\\site-packages\\sklearn\\cluster\\_kmeans.py:1036: UserWarning: KMeans is known to have a memory leak on Windows with MKL, when there are less chunks than available threads. You can avoid it by setting the environment variable OMP_NUM_THREADS=1.\n",
      "  warnings.warn(\n"
     ]
    },
    {
     "data": {
      "image/png": "[encoded data removed]",
      "text/plain": [
       "<Figure size 800x500 with 1 Axes>"
      ]
     },
     "metadata": {},
     "output_type": "display_data"
    }
   ],
   "source": [
    "inertia = []\n",
    "for k in range(1, 11):\n",
    "    kmeans = KMeans(n_clusters=k, random_state=42)\n",
    "    kmeans.fit(data_std)\n",
    "    inertia.append(kmeans.inertia_)\n",
    "\n",
    "plt.figure(figsize=(8, 5))\n",
    "plt.plot(range(1, 11), inertia, marker='o')\n",
    "plt.xlabel('Number of Clusters')\n",
    "plt.ylabel('Inertia')\n",
    "plt.title('Elbow Method')\n",
    "plt.show()"
   ]
  },
  {
   "cell_type": "code",
   "execution_count": 82,
   "id": "27701c3f",
   "metadata": {},
   "outputs": [],
   "source": [
    "kmeans_model, kmeans_labels = kmeans_clustering(data_std, n_clusters=3)"
   ]
  },
  {
   "cell_type": "markdown",
   "id": "256784b1",
   "metadata": {},
   "source": [
    "# Hierarchical Clustering"
   ]
  },
  {
   "cell_type": "code",
   "execution_count": 83,
   "id": "df5f0a1b",
   "metadata": {},
   "outputs": [],
   "source": [
    "def hierarchical_clustering(data, n_clusters):\n",
    "    hierarchical = AgglomerativeClustering(n_clusters=3)\n",
    "    labels = hierarchical.fit_predict(data_std)\n",
    "    return hierarchical, labels"
   ]
  },
  {
   "cell_type": "code",
   "execution_count": 84,
   "id": "2c988a45",
   "metadata": {},
   "outputs": [
    {
     "data": {
      "image/png": "[encoded data removed]",
      "text/plain": [
       "<Figure size 640x480 with 1 Axes>"
      ]
     },
     "metadata": {},
     "output_type": "display_data"
    }
   ],
   "source": [
    "import scipy.cluster.hierarchy as sch\n",
    "\n",
    "dendrogram = sch.dendrogram(sch.linkage(data_std, method='ward'))\n",
    "plt.title('Dendrogram')\n",
    "plt.xlabel('Samples')\n",
    "plt.ylabel('Distance')\n",
    "plt.show()"
   ]
  },
  {
   "cell_type": "code",
   "execution_count": 85,
   "id": "0cc1e149",
   "metadata": {},
   "outputs": [],
   "source": [
    "hierarchical_model, hierarchical_labels = hierarchical_clustering(data_std, n_clusters=3)"
   ]
  },
  {
   "cell_type": "markdown",
   "id": "9b42ef72",
   "metadata": {},
   "source": [
    "# DBSCAN Clustering"
   ]
  },
  {
   "cell_type": "code",
   "execution_count": 91,
   "id": "01f8832f",
   "metadata": {},
   "outputs": [],
   "source": [
    "def dbscan_clustering(data, eps, min_samples):\n",
    "    dbscan = DBSCAN(eps=0.5, min_samples=3)\n",
    "    labels = dbscan.fit_predict(data_std)\n",
    "    return dbscan, labels"
   ]
  },
  {
   "cell_type": "code",
   "execution_count": 92,
   "id": "7ea365dd",
   "metadata": {},
   "outputs": [],
   "source": [
    "dbscan_model, dbscan_labels = dbscan_clustering(data_std, eps=0.5, min_samples=5)"
   ]
  },
  {
   "cell_type": "markdown",
   "id": "5e156fb1",
   "metadata": {},
   "source": [
    "# Comparing and Evaluating Models"
   ]
  },
  {
   "cell_type": "code",
   "execution_count": 93,
   "id": "a9db1968",
   "metadata": {},
   "outputs": [
    {
     "name": "stdout",
     "output_type": "stream",
     "text": [
      "Number of samples in kmeans_labels: 178\n",
      "Number of samples in hierarchical_labels: 178\n",
      "Number of samples in dbscan_labels: 178\n",
      "Number of samples in target (true labels): 178\n"
     ]
    }
   ],
   "source": [
    "print(\"Number of samples in kmeans_labels:\", len(kmeans_labels))\n",
    "print(\"Number of samples in hierarchical_labels:\", len(hierarchical_labels))\n",
    "print(\"Number of samples in dbscan_labels:\", len(dbscan_labels))\n",
    "print(\"Number of samples in target (true labels):\", len(target))"
   ]
  },
  {
   "cell_type": "code",
   "execution_count": 95,
   "id": "2ceffa3d",
   "metadata": {},
   "outputs": [
    {
     "name": "stdout",
     "output_type": "stream",
     "text": [
      "K-Means Silhouette Score: 0.2581313480696506\n",
      "Hierarchical Silhouette Score: 0.24140272541312702\n",
      "DBSCAN Silhouette Score: 0.35651648142700726\n"
     ]
    }
   ],
   "source": [
    "def evaluate_clustering(labels, true_labels, data):\n",
    "\n",
    "    kmeans_silhouette = silhouette_score(data_std, kmeans_labels)\n",
    "    hierarchical_silhouette = silhouette_score(data_std, hierarchical_labels)\n",
    "    dbscan_silhouette = silhouette_score(data_std, dbscan_labels)\n",
    "\n",
    "print(\"K-Means Silhouette Score:\", kmeans_silhouette)\n",
    "print(\"Hierarchical Silhouette Score:\", hierarchical_silhouette)\n",
    "print(\"DBSCAN Silhouette Score:\", dbscan_silhouette)"
   ]
  },
  {
   "cell_type": "code",
   "execution_count": 96,
   "id": "a95afdc7",
   "metadata": {},
   "outputs": [
    {
     "name": "stdout",
     "output_type": "stream",
     "text": [
      "K-Means Cluster Assignments: [0 0 0 0 0 0 0 0 0 0 0 0 0 0 0 0 0 0 0 0 0 0 0 0 0 0 0 1 0 0 0 0 0 0 0 0 0\n",
      " 1 1 0 0 1 0 0 0 0 0 0 0 0 0 0 0 0 0 0 0 0 0 1 1 2 1 0 1 1 0 1 1 1 1 0 1 0\n",
      " 1 1 1 1 1 1 1 1 1 2 1 1 1 1 1 1 1 1 1 1 1 0 1 1 0 1 1 1 1 1 1 1 1 1 1 1 1\n",
      " 1 1 1 1 1 1 1 2 1 1 0 1 1 1 1 1 1 1 1 2 2 2 2 2 2 2 2 2 2 2 2 2 2 2 2 2 2\n",
      " 2 2 2 2 2 2 2 2 2 2 2 2 2 2 2 2 2 2 2 2 2 2 2 2 2 2 2 2 2 2]\n",
      "Hierarchical Cluster Assignments: [2 0 2 2 2 2 2 2 2 2 2 2 2 2 2 2 2 2 2 2 2 2 2 2 2 2 2 0 2 2 2 2 2 2 2 2 2\n",
      " 2 0 2 2 0 2 0 2 2 2 2 2 2 2 2 2 2 2 2 2 2 2 0 0 0 0 0 0 0 2 0 0 2 0 2 0 2\n",
      " 0 0 0 0 2 0 0 0 0 1 0 0 0 0 0 0 0 0 0 0 0 2 0 0 0 0 0 0 0 0 0 0 0 0 0 0 0\n",
      " 0 0 0 0 0 0 0 1 0 0 2 0 0 0 0 0 0 0 0 0 0 0 0 1 1 1 1 1 1 1 1 1 1 1 1 1 1\n",
      " 1 1 1 1 1 1 1 1 1 1 1 1 1 1 1 1 1 1 1 1 1 1 1 1 1 1 1 1 1 1]\n",
      "DBSCAN Cluster Assignments: [-1 -1 -1 -1 -1 -1 -1 -1 -1 -1 -1 -1 -1 -1 -1 -1 -1 -1 -1 -1 -1 -1 -1 -1\n",
      " -1 -1 -1 -1 -1 -1 -1 -1 -1 -1 -1 -1 -1 -1 -1 -1 -1 -1 -1 -1 -1 -1 -1 -1\n",
      " -1 -1 -1 -1 -1 -1 -1 -1 -1 -1 -1 -1 -1 -1 -1 -1 -1 -1 -1 -1 -1 -1 -1 -1\n",
      " -1 -1 -1 -1 -1 -1 -1 -1 -1 -1 -1 -1 -1 -1 -1 -1 -1 -1 -1 -1 -1 -1 -1 -1\n",
      " -1 -1 -1 -1 -1 -1 -1 -1 -1 -1 -1 -1 -1 -1 -1 -1 -1 -1 -1 -1 -1 -1 -1 -1\n",
      " -1 -1 -1 -1 -1 -1 -1 -1 -1 -1 -1 -1 -1 -1 -1 -1 -1 -1 -1 -1 -1 -1 -1 -1\n",
      " -1 -1 -1 -1 -1 -1 -1 -1 -1 -1 -1 -1 -1 -1 -1 -1 -1 -1 -1 -1 -1 -1 -1 -1\n",
      " -1 -1 -1 -1 -1 -1 -1 -1 -1 -1]\n"
     ]
    }
   ],
   "source": [
    "print(\"K-Means Cluster Assignments:\", kmeans_labels)\n",
    "print(\"Hierarchical Cluster Assignments:\", hierarchical_labels)\n",
    "print(\"DBSCAN Cluster Assignments:\", dbscan_labels)"
   ]
  },
  {
   "cell_type": "code",
   "execution_count": 99,
   "id": "fb35bb8f",
   "metadata": {},
   "outputs": [
    {
     "name": "stdout",
     "output_type": "stream",
     "text": [
      "\n",
      "Summary:\n",
      "DBSCAN Clustering performed the best with a silhouette score of 0.35651648142700726\n"
     ]
    }
   ],
   "source": [
    "print(\"\\nSummary:\")\n",
    "\n",
    "if kmeans_silhouette > hierarchical_silhouette and kmeans_silhouette > dbscan_silhouette:\n",
    "    print(\"K-Means Clustering performed the best with a silhouette score of\", kmeans_silhouette)\n",
    "    print(\"The optimal number of clusters for K-Means is 3.\")\n",
    "    \n",
    "elif hierarchical_silhouette > kmeans_silhouette and hierarchical_silhouette > dbscan_silhouette:\n",
    "    print(\"Hierarchical Clustering performed the best with a silhouette score of\", hierarchical_silhouette)\n",
    "    print(\"The optimal number of clusters for Hierarchical Clustering is 3.\")\n",
    "    \n",
    "else:\n",
    "    print(\"DBSCAN Clustering performed the best with a silhouette score of\", dbscan_silhouette)"
   ]
  },
  {
   "cell_type": "code",
   "execution_count": null,
   "id": "b1f75256",
   "metadata": {},
   "outputs": [],
   "source": []
  }
 ],
 "metadata": {
  "kernelspec": {
   "display_name": "Python 3 (ipykernel)",
   "language": "python",
   "name": "python3"
  },
  "language_info": {
   "codemirror_mode": {
    "name": "ipython",
    "version": 3
   },
   "file_extension": ".py",
   "mimetype": "text/x-python",
   "name": "python",
   "nbconvert_exporter": "python",
   "pygments_lexer": "ipython3",
   "version": "3.9.13"
  }
 },
 "nbformat": 4,
 "nbformat_minor": 5
}
